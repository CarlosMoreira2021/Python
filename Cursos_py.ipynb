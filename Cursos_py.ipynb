{
  "nbformat": 4,
  "nbformat_minor": 0,
  "metadata": {
    "colab": {
      "provenance": [],
      "authorship_tag": "ABX9TyOyPhJaQnYUh2/DGkjcMDPx",
      "include_colab_link": true
    },
    "kernelspec": {
      "name": "python3",
      "display_name": "Python 3"
    },
    "language_info": {
      "name": "python"
    }
  },
  "cells": [
    {
      "cell_type": "markdown",
      "metadata": {
        "id": "view-in-github",
        "colab_type": "text"
      },
      "source": [
        "<a href=\"https://colab.research.google.com/github/CarlosMoreira2021/python/blob/main/Cursos_py.ipynb\" target=\"_parent\"><img src=\"https://colab.research.google.com/assets/colab-badge.svg\" alt=\"Open In Colab\"/></a>"
      ]
    },
    {
      "cell_type": "code",
      "source": [
        "#aula 21 - operadores logicos (AND , or, not)\n",
        "\n",
        "\n",
        "\n",
        "entrada = input('[E]ntrar [S]air: ').upper()\n",
        "senha_digitada = input('Senha: ')\n",
        "senha_permitida = '123456'\n",
        "\n",
        "\n",
        "if entrada == 'E' and senha_digitada == senha_permitida:\n",
        "  print('Entrar')\n",
        "\n",
        "elif entrada == 'E' and senha_digitada != senha_permitida:\n",
        "  print('Senha incorreta')\n",
        "else:\n",
        "  print('Sair')\n",
        "\n",
        "print('FIM DO PROGRAMA')\n",
        "\n",
        "\n"
      ],
      "metadata": {
        "id": "Au9hEcPfLG3g"
      },
      "execution_count": null,
      "outputs": []
    },
    {
      "cell_type": "code",
      "source": [
        "#aula 22 - operadores logicos (and , OR , not)\n",
        "\n",
        "\n",
        "\n",
        "entrada = input('[E]ntrar [S]air:')\n",
        "senha_digitada = input('Senha: ')\n",
        "senha_permitida = '123456'\n",
        "\n",
        "\n",
        "if (entrada == 'E' or entrada == 'e') and senha_digitada == senha_permitida:\n",
        "  print('Entrar')\n",
        "elif entrada == 'E' and senha_digitada != senha_permitida:\n",
        "  print('Senha incorreta')\n",
        "else:\n",
        "  print('Sair')\n",
        "\n",
        "print('FIM DO PROGRAMA')\n"
      ],
      "metadata": {
        "id": "T_4mSUIGPfCp"
      },
      "execution_count": null,
      "outputs": []
    }
  ]
}