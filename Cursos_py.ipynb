{
  "nbformat": 4,
  "nbformat_minor": 0,
  "metadata": {
    "colab": {
      "provenance": [],
      "authorship_tag": "ABX9TyMmDe0N3sS3+zTppiXCAEUZ",
      "include_colab_link": true
    },
    "kernelspec": {
      "name": "python3",
      "display_name": "Python 3"
    },
    "language_info": {
      "name": "python"
    }
  },
  "cells": [
    {
      "cell_type": "markdown",
      "metadata": {
        "id": "view-in-github",
        "colab_type": "text"
      },
      "source": [
        "<a href=\"https://colab.research.google.com/github/CarlosMoreira2021/python/blob/main/Cursos_py.ipynb\" target=\"_parent\"><img src=\"https://colab.research.google.com/assets/colab-badge.svg\" alt=\"Open In Colab\"/></a>"
      ]
    },
    {
      "cell_type": "code",
      "source": [
        "#aula 21 - operadores logicos (AND , or, not)\n",
        "\n",
        "\n",
        "\n",
        "entrada = input('[E]ntrar [S]air: ').upper()\n",
        "senha_digitada = input('Senha: ')\n",
        "senha_permitida = '123456'\n",
        "\n",
        "\n",
        "if entrada == 'E' and senha_digitada == senha_permitida:\n",
        "  print('Entrar')\n",
        "\n",
        "elif entrada == 'E' and senha_digitada != senha_permitida:\n",
        "  print('Senha incorreta')\n",
        "else:\n",
        "  print('Sair')\n",
        "\n",
        "print('FIM DO PROGRAMA')\n",
        "\n",
        "\n"
      ],
      "metadata": {
        "id": "Au9hEcPfLG3g"
      },
      "execution_count": null,
      "outputs": []
    },
    {
      "cell_type": "code",
      "source": [
        "#aula 22 - operadores logicos (and , OR , not)\n",
        "\n",
        "\n",
        "\n",
        "entrada = input('[E]ntrar [S]air:')\n",
        "senha_digitada = input('Senha: ')\n",
        "senha_permitida = '123456'\n",
        "\n",
        "\n",
        "if (entrada == 'E' or entrada == 'e') and senha_digitada == senha_permitida:\n",
        "  print('Entrar')\n",
        "elif entrada == 'E' and senha_digitada != senha_permitida:\n",
        "  print('Senha incorreta')\n",
        "else:\n",
        "  print('Sair')\n",
        "\n",
        "print('FIM DO PROGRAMA')\n"
      ],
      "metadata": {
        "id": "T_4mSUIGPfCp"
      },
      "execution_count": null,
      "outputs": []
    },
    {
      "cell_type": "code",
      "source": [
        "#aula 23 - operadores logicos (and , or , NOT)\n",
        "\n",
        "\n",
        "\n",
        "print(not True)\n",
        "print(not False)\n",
        "print(not 0)"
      ],
      "metadata": {
        "id": "eaBiAY7CU4Fk"
      },
      "execution_count": null,
      "outputs": []
    },
    {
      "cell_type": "code",
      "source": [
        "#aula 23 - operadores in(esta entre) e not in(nao esta entre)\n",
        "\n",
        "\n",
        "\n",
        "#nome = 'Carlos'\n",
        "\n",
        "\n",
        "#print(nome[2])\n",
        "#print('a' in nome)\n",
        "#print('z' in nome)\n",
        "#print('C' not in nome)\n",
        "\n",
        "\n",
        "nome = input('Digite seu nome: ')\n",
        "encontrar = input('Digite o que deseja encontrar: ')\n",
        "\n",
        "if encontrar in nome:\n",
        "  print(f'{encontrar} esta em {nome}')\n",
        "else:\n",
        "  print(f'{encontrar} não está em {nome}')"
      ],
      "metadata": {
        "id": "Drb4dwMdZnKa"
      },
      "execution_count": null,
      "outputs": []
    },
    {
      "cell_type": "code",
      "source": [
        "#aula 25 - interpolação\n",
        "\n",
        "\n",
        "\n",
        "nome = 'Carlos'\n",
        "preco = 1000.95897643\n",
        "variavel = '%s, o preço total foi de R$%.2f' % (nome,preco)\n",
        "print(variavel)\n",
        "\n",
        "\n",
        "#hexadecimal\n",
        "print('O hexadecimal de %d é %04x' % (15,15))"
      ],
      "metadata": {
        "id": "sXPE60JqkLtw"
      },
      "execution_count": null,
      "outputs": []
    },
    {
      "cell_type": "code",
      "source": [
        "#aula 26 - f string\n",
        "\n",
        "\n",
        "\n",
        "variavel = 'ABC'\n",
        "print(f'{variavel}')\n",
        "print(f'{variavel: >10}')\n",
        "print(f'{variavel: <10}.')\n",
        "print(f'{variavel: ^10}')\n",
        "print(f'{variavel:$^10}')\n",
        "print(f'{1000000000.900000000:+,.2f}')"
      ],
      "metadata": {
        "id": "6AVucroxmeV8"
      },
      "execution_count": null,
      "outputs": []
    },
    {
      "cell_type": "code",
      "source": [
        "#aula 27 Fatiamento de strings\n",
        "\n",
        "\n",
        "\n",
        "variavel = 'Olá mundo!'\n",
        "print(variavel[5:])\n",
        "print(variavel[:5])\n",
        "print(variavel[0:4])\n",
        "print(len(variavel[5])) #conta os caracteres\n",
        "print(variavel[0:len(variavel):2])"
      ],
      "metadata": {
        "id": "WYxXGfsQot6q"
      },
      "execution_count": null,
      "outputs": []
    },
    {
      "cell_type": "code",
      "source": [
        "#aula 29 - try e except\n",
        "#try tentar executar o codigo\n",
        "#except -> ocorreu um erro ao tentar executar\n",
        "\n",
        "numero_str = input('Vou dobrar o numero que voce digitar: ')\n",
        "print(numero_str.isdigit())\n",
        "\n",
        "try:\n",
        "  numero_float = float(numero_str)\n",
        "  print('FLOAT',numero_float)\n",
        "  print(f'o dobro de {numero_str} é {numero_float * 2:.2f}')\n",
        "except:\n",
        "  print('Isso não é um numero')\n",
        "\n",
        "\n",
        "\n",
        "\n",
        "#if numero_str.isdigit():\n",
        "  #numero_float = float(numero_str)\n",
        "  #print(f'o dobro de {numero_str} é {numero_float * 2:.2f}')\n",
        "#else:\n",
        "  #print('Isso não é um numero')"
      ],
      "metadata": {
        "id": "NcUKEzQqQIzE"
      },
      "execution_count": null,
      "outputs": []
    },
    {
      "cell_type": "code",
      "source": [
        "#aula 30 - variaveis e constantes\n",
        "\n",
        "\n",
        "\n",
        "velocidade = 61\n",
        "local_carro = 100\n",
        "\n",
        "RADAR_1 = 60\n",
        "LOCAL_1 = 100\n",
        "RADAR_RANGE = 1\n",
        "\n",
        "vel_carro_pass_radar_1 = velocidade > RADAR_1\n",
        "carro_multado_radar_1 = local_carro >= (LOCAL_1 - RADAR_RANGE) and local_carro <= (LOCAL_1 + RADAR_RANGE)\n",
        "\n",
        "\n",
        "if vel_carro_pass_radar_1:\n",
        "  print('Velocidade carro passou radar 1')\n",
        "\n",
        "if carro_multado_radar_1 and vel_carro_pass_radar_1:\n",
        "  print('carro multado em radar 1')"
      ],
      "metadata": {
        "id": "ksyRjAELRtcs"
      },
      "execution_count": null,
      "outputs": []
    },
    {
      "cell_type": "code",
      "source": [
        "#aula 30 id\n",
        "\n",
        "\n",
        "\n",
        "v1 = 'a'\n",
        "v2 = 'a'\n",
        "print(id(v1))\n",
        "print(id(v2))"
      ],
      "metadata": {
        "id": "Juaao0dqaig_"
      },
      "execution_count": null,
      "outputs": []
    },
    {
      "cell_type": "code",
      "source": [
        "#aula 31\n",
        "\n",
        "\n",
        "\n",
        "condicao = True\n",
        "passou_no_if = None\n",
        "\n",
        "if condicao:\n",
        "  passou_no_if = True\n",
        "  print('Faça algo')\n",
        "else:\n",
        "  print('Não faça algo')\n",
        "\n",
        "print(passou_no_if, passou_no_if is None)\n",
        "print(passou_no_if,passou_no_if is not None)"
      ],
      "metadata": {
        "id": "PQ0SbEOmbFtJ"
      },
      "execution_count": null,
      "outputs": []
    },
    {
      "cell_type": "markdown",
      "source": [
        "\n",
        "Faça um programa que peça ao usuário para digitar um número inteiro,\n",
        "informe se este número é par ou ímpar. Caso o usuário não digite um número\n",
        "inteiro, informe que não é um número inteiro.\n"
      ],
      "metadata": {
        "id": "M238joHVjjqK"
      }
    },
    {
      "cell_type": "code",
      "source": [
        "num1 = input('Digite um numero:')\n",
        "num1_validate = num1.isnumeric()\n",
        "\n",
        "if num1_validate:\n",
        "  num1 = int(num1)\n",
        "  if num1 % 2 == 0:\n",
        "    print(f'{num1} é par')\n",
        "  else:\n",
        "    print(f'{num1} é impar')\n",
        "else:\n",
        "  print('Não é um número')\n"
      ],
      "metadata": {
        "id": "n4GBh107jn5D"
      },
      "execution_count": null,
      "outputs": []
    },
    {
      "cell_type": "markdown",
      "source": [
        "Faça um programa que pergunte a hora ao usuário e, baseando-se no horário\n",
        "descrito, exiba a saudação apropriada. Ex.\n",
        "Bom dia 0-11, Boa tarde 12-17 e Boa noite 18-23."
      ],
      "metadata": {
        "id": "X-WrZbcHjo-u"
      }
    },
    {
      "cell_type": "code",
      "source": [
        "hora = input('Quantas horas são: ')\n",
        "hora_validate = hora.isnumeric()\n",
        "\n",
        "if hora_validate:\n",
        "  hora = int(hora)\n",
        "  if hora >= 0 and hora <= 11:\n",
        "    print('Bom dia')\n",
        "  elif  hora >= 12 and hora <= 17:\n",
        "    print('Boa tarde')\n",
        "  elif hora > 17 and hora <= 23:\n",
        "    print('Boa noite')\n",
        "  else:\n",
        "    print('Hora invalida')\n",
        "else:\n",
        "  print('Não é um número')\n"
      ],
      "metadata": {
        "id": "84syzSP3jtKH"
      },
      "execution_count": null,
      "outputs": []
    },
    {
      "cell_type": "markdown",
      "source": [
        "Faça um programa que peça o primeiro nome do usuário. Se o nome tiver 4 letras ou\n",
        "menos escreva \"Seu nome é curto\"; se tiver entre 5 e 6 letras, escreva\n",
        "\"Seu nome é normal\"; maior que 6 escreva \"Seu nome é muito grande\"."
      ],
      "metadata": {
        "id": "qyaAKIiojugP"
      }
    },
    {
      "cell_type": "code",
      "source": [
        "usuario = input('Digite seu nome: ')\n",
        "usuario_validate = usuario.isalpha()\n",
        "\n",
        "\n",
        "if usuario_validate:\n",
        "\n",
        "  if len(usuario) <= 4:\n",
        "    print('Seu nome é curto')\n",
        "  elif len(usuario) >= 5 and len(usuario) <= 6:\n",
        "    print('Seu nome é normal!')\n",
        "  else:\n",
        "    print('Seu nome é muito grande')\n",
        "else:\n",
        "  print('Nao é um nome')\n"
      ],
      "metadata": {
        "id": "gpNprre6ja1v"
      },
      "execution_count": null,
      "outputs": []
    }
  ]
}