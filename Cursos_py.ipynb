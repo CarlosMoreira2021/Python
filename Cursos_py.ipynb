{
  "nbformat": 4,
  "nbformat_minor": 0,
  "metadata": {
    "colab": {
      "provenance": [],
      "authorship_tag": "ABX9TyNPsLdNrctSO7omN+QE+s0/",
      "include_colab_link": true
    },
    "kernelspec": {
      "name": "python3",
      "display_name": "Python 3"
    },
    "language_info": {
      "name": "python"
    }
  },
  "cells": [
    {
      "cell_type": "markdown",
      "metadata": {
        "id": "view-in-github",
        "colab_type": "text"
      },
      "source": [
        "<a href=\"https://colab.research.google.com/github/CarlosMoreira2021/python/blob/main/Cursos_py.ipynb\" target=\"_parent\"><img src=\"https://colab.research.google.com/assets/colab-badge.svg\" alt=\"Open In Colab\"/></a>"
      ]
    },
    {
      "cell_type": "code",
      "source": [
        "#aula 21 - operadores logicos (AND , or, not)\n",
        "\n",
        "\n",
        "\n",
        "entrada = input('[E]ntrar [S]air: ').upper()\n",
        "senha_digitada = input('Senha: ')\n",
        "senha_permitida = '123456'\n",
        "\n",
        "\n",
        "if entrada == 'E' and senha_digitada == senha_permitida:\n",
        "  print('Entrar')\n",
        "\n",
        "elif entrada == 'E' and senha_digitada != senha_permitida:\n",
        "  print('Senha incorreta')\n",
        "else:\n",
        "  print('Sair')\n",
        "\n",
        "print('FIM DO PROGRAMA')\n",
        "\n",
        "\n"
      ],
      "metadata": {
        "id": "Au9hEcPfLG3g"
      },
      "execution_count": null,
      "outputs": []
    },
    {
      "cell_type": "code",
      "source": [
        "#aula 22 - operadores logicos (and , OR , not)\n",
        "\n",
        "\n",
        "\n",
        "entrada = input('[E]ntrar [S]air:')\n",
        "senha_digitada = input('Senha: ')\n",
        "senha_permitida = '123456'\n",
        "\n",
        "\n",
        "if (entrada == 'E' or entrada == 'e') and senha_digitada == senha_permitida:\n",
        "  print('Entrar')\n",
        "elif entrada == 'E' and senha_digitada != senha_permitida:\n",
        "  print('Senha incorreta')\n",
        "else:\n",
        "  print('Sair')\n",
        "\n",
        "print('FIM DO PROGRAMA')\n"
      ],
      "metadata": {
        "id": "T_4mSUIGPfCp"
      },
      "execution_count": null,
      "outputs": []
    },
    {
      "cell_type": "code",
      "source": [
        "#aula 23 - operadores logicos (and , or , NOT)\n",
        "\n",
        "\n",
        "\n",
        "print(not True)\n",
        "print(not False)\n",
        "print(not 0)"
      ],
      "metadata": {
        "id": "eaBiAY7CU4Fk"
      },
      "execution_count": null,
      "outputs": []
    },
    {
      "cell_type": "code",
      "source": [
        "#aula 23 - operadores in(esta entre) e not in(nao esta entre)\n",
        "\n",
        "\n",
        "\n",
        "#nome = 'Carlos'\n",
        "\n",
        "\n",
        "#print(nome[2])\n",
        "#print('a' in nome)\n",
        "#print('z' in nome)\n",
        "#print('C' not in nome)\n",
        "\n",
        "\n",
        "nome = input('Digite seu nome: ')\n",
        "encontrar = input('Digite o que deseja encontrar: ')\n",
        "\n",
        "if encontrar in nome:\n",
        "  print(f'{encontrar} esta em {nome}')\n",
        "else:\n",
        "  print(f'{encontrar} não está em {nome}')"
      ],
      "metadata": {
        "id": "Drb4dwMdZnKa"
      },
      "execution_count": null,
      "outputs": []
    },
    {
      "cell_type": "code",
      "source": [
        "#aula 25 - interpolação\n",
        "\n",
        "\n",
        "\n",
        "nome = 'Carlos'\n",
        "preco = 1000.95897643\n",
        "variavel = '%s, o preço total foi de R$%.2f' % (nome,preco)\n",
        "print(variavel)\n",
        "\n",
        "\n",
        "#hexadecimal\n",
        "print('O hexadecimal de %d é %04x' % (15,15))"
      ],
      "metadata": {
        "id": "sXPE60JqkLtw"
      },
      "execution_count": null,
      "outputs": []
    },
    {
      "cell_type": "code",
      "source": [
        "#aula 26 - f string\n",
        "\n",
        "\n",
        "\n",
        "variavel = 'ABC'\n",
        "print(f'{variavel}')\n",
        "print(f'{variavel: >10}')\n",
        "print(f'{variavel: <10}.')\n",
        "print(f'{variavel: ^10}')\n",
        "print(f'{variavel:$^10}')\n",
        "print(f'{1000000000.900000000:+,.2f}')"
      ],
      "metadata": {
        "id": "6AVucroxmeV8"
      },
      "execution_count": null,
      "outputs": []
    },
    {
      "cell_type": "code",
      "source": [
        "#aula 27 Fatiamento de strings\n",
        "\n",
        "\n",
        "\n",
        "variavel = 'Olá mundo!'\n",
        "print(variavel[5:])\n",
        "print(variavel[:5])\n",
        "print(variavel[0:4])\n",
        "print(len(variavel[5])) #conta os caracteres\n",
        "print(variavel[0:len(variavel):2])"
      ],
      "metadata": {
        "id": "WYxXGfsQot6q"
      },
      "execution_count": null,
      "outputs": []
    }
  ]
}